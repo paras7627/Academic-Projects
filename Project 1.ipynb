{
  "nbformat": 4,
  "nbformat_minor": 0,
  "metadata": {
    "colab": {
      "provenance": []
    },
    "kernelspec": {
      "name": "python3",
      "display_name": "Python 3"
    },
    "language_info": {
      "name": "python"
    }
  },
  "cells": [
    {
      "cell_type": "code",
      "execution_count": 1,
      "metadata": {
        "id": "LeWo3eOSKsd-"
      },
      "outputs": [],
      "source": [
        "import pandas as pd\n",
        "import numpy as np\n",
        "import matplotlib.pyplot as plt\n",
        "import seaborn as sns\n",
        "%matplotlib inline\n"
      ]
    },
    {
      "cell_type": "code",
      "source": [
        "from google.colab import files\n",
        "uploaded = files.upload()"
      ],
      "metadata": {
        "colab": {
          "base_uri": "https://localhost:8080/",
          "height": 73
        },
        "id": "zdyyR-QxK-yg",
        "outputId": "eadfcfa8-b82b-4cc3-a7c7-cdadd3e37cbf"
      },
      "execution_count": 2,
      "outputs": [
        {
          "output_type": "display_data",
          "data": {
            "text/plain": [
              "<IPython.core.display.HTML object>"
            ],
            "text/html": [
              "\n",
              "     <input type=\"file\" id=\"files-fc1278b5-7d92-49fb-bd62-5ef8cd1dcb82\" name=\"files[]\" multiple disabled\n",
              "        style=\"border:none\" />\n",
              "     <output id=\"result-fc1278b5-7d92-49fb-bd62-5ef8cd1dcb82\">\n",
              "      Upload widget is only available when the cell has been executed in the\n",
              "      current browser session. Please rerun this cell to enable.\n",
              "      </output>\n",
              "      <script>// Copyright 2017 Google LLC\n",
              "//\n",
              "// Licensed under the Apache License, Version 2.0 (the \"License\");\n",
              "// you may not use this file except in compliance with the License.\n",
              "// You may obtain a copy of the License at\n",
              "//\n",
              "//      http://www.apache.org/licenses/LICENSE-2.0\n",
              "//\n",
              "// Unless required by applicable law or agreed to in writing, software\n",
              "// distributed under the License is distributed on an \"AS IS\" BASIS,\n",
              "// WITHOUT WARRANTIES OR CONDITIONS OF ANY KIND, either express or implied.\n",
              "// See the License for the specific language governing permissions and\n",
              "// limitations under the License.\n",
              "\n",
              "/**\n",
              " * @fileoverview Helpers for google.colab Python module.\n",
              " */\n",
              "(function(scope) {\n",
              "function span(text, styleAttributes = {}) {\n",
              "  const element = document.createElement('span');\n",
              "  element.textContent = text;\n",
              "  for (const key of Object.keys(styleAttributes)) {\n",
              "    element.style[key] = styleAttributes[key];\n",
              "  }\n",
              "  return element;\n",
              "}\n",
              "\n",
              "// Max number of bytes which will be uploaded at a time.\n",
              "const MAX_PAYLOAD_SIZE = 100 * 1024;\n",
              "\n",
              "function _uploadFiles(inputId, outputId) {\n",
              "  const steps = uploadFilesStep(inputId, outputId);\n",
              "  const outputElement = document.getElementById(outputId);\n",
              "  // Cache steps on the outputElement to make it available for the next call\n",
              "  // to uploadFilesContinue from Python.\n",
              "  outputElement.steps = steps;\n",
              "\n",
              "  return _uploadFilesContinue(outputId);\n",
              "}\n",
              "\n",
              "// This is roughly an async generator (not supported in the browser yet),\n",
              "// where there are multiple asynchronous steps and the Python side is going\n",
              "// to poll for completion of each step.\n",
              "// This uses a Promise to block the python side on completion of each step,\n",
              "// then passes the result of the previous step as the input to the next step.\n",
              "function _uploadFilesContinue(outputId) {\n",
              "  const outputElement = document.getElementById(outputId);\n",
              "  const steps = outputElement.steps;\n",
              "\n",
              "  const next = steps.next(outputElement.lastPromiseValue);\n",
              "  return Promise.resolve(next.value.promise).then((value) => {\n",
              "    // Cache the last promise value to make it available to the next\n",
              "    // step of the generator.\n",
              "    outputElement.lastPromiseValue = value;\n",
              "    return next.value.response;\n",
              "  });\n",
              "}\n",
              "\n",
              "/**\n",
              " * Generator function which is called between each async step of the upload\n",
              " * process.\n",
              " * @param {string} inputId Element ID of the input file picker element.\n",
              " * @param {string} outputId Element ID of the output display.\n",
              " * @return {!Iterable<!Object>} Iterable of next steps.\n",
              " */\n",
              "function* uploadFilesStep(inputId, outputId) {\n",
              "  const inputElement = document.getElementById(inputId);\n",
              "  inputElement.disabled = false;\n",
              "\n",
              "  const outputElement = document.getElementById(outputId);\n",
              "  outputElement.innerHTML = '';\n",
              "\n",
              "  const pickedPromise = new Promise((resolve) => {\n",
              "    inputElement.addEventListener('change', (e) => {\n",
              "      resolve(e.target.files);\n",
              "    });\n",
              "  });\n",
              "\n",
              "  const cancel = document.createElement('button');\n",
              "  inputElement.parentElement.appendChild(cancel);\n",
              "  cancel.textContent = 'Cancel upload';\n",
              "  const cancelPromise = new Promise((resolve) => {\n",
              "    cancel.onclick = () => {\n",
              "      resolve(null);\n",
              "    };\n",
              "  });\n",
              "\n",
              "  // Wait for the user to pick the files.\n",
              "  const files = yield {\n",
              "    promise: Promise.race([pickedPromise, cancelPromise]),\n",
              "    response: {\n",
              "      action: 'starting',\n",
              "    }\n",
              "  };\n",
              "\n",
              "  cancel.remove();\n",
              "\n",
              "  // Disable the input element since further picks are not allowed.\n",
              "  inputElement.disabled = true;\n",
              "\n",
              "  if (!files) {\n",
              "    return {\n",
              "      response: {\n",
              "        action: 'complete',\n",
              "      }\n",
              "    };\n",
              "  }\n",
              "\n",
              "  for (const file of files) {\n",
              "    const li = document.createElement('li');\n",
              "    li.append(span(file.name, {fontWeight: 'bold'}));\n",
              "    li.append(span(\n",
              "        `(${file.type || 'n/a'}) - ${file.size} bytes, ` +\n",
              "        `last modified: ${\n",
              "            file.lastModifiedDate ? file.lastModifiedDate.toLocaleDateString() :\n",
              "                                    'n/a'} - `));\n",
              "    const percent = span('0% done');\n",
              "    li.appendChild(percent);\n",
              "\n",
              "    outputElement.appendChild(li);\n",
              "\n",
              "    const fileDataPromise = new Promise((resolve) => {\n",
              "      const reader = new FileReader();\n",
              "      reader.onload = (e) => {\n",
              "        resolve(e.target.result);\n",
              "      };\n",
              "      reader.readAsArrayBuffer(file);\n",
              "    });\n",
              "    // Wait for the data to be ready.\n",
              "    let fileData = yield {\n",
              "      promise: fileDataPromise,\n",
              "      response: {\n",
              "        action: 'continue',\n",
              "      }\n",
              "    };\n",
              "\n",
              "    // Use a chunked sending to avoid message size limits. See b/62115660.\n",
              "    let position = 0;\n",
              "    do {\n",
              "      const length = Math.min(fileData.byteLength - position, MAX_PAYLOAD_SIZE);\n",
              "      const chunk = new Uint8Array(fileData, position, length);\n",
              "      position += length;\n",
              "\n",
              "      const base64 = btoa(String.fromCharCode.apply(null, chunk));\n",
              "      yield {\n",
              "        response: {\n",
              "          action: 'append',\n",
              "          file: file.name,\n",
              "          data: base64,\n",
              "        },\n",
              "      };\n",
              "\n",
              "      let percentDone = fileData.byteLength === 0 ?\n",
              "          100 :\n",
              "          Math.round((position / fileData.byteLength) * 100);\n",
              "      percent.textContent = `${percentDone}% done`;\n",
              "\n",
              "    } while (position < fileData.byteLength);\n",
              "  }\n",
              "\n",
              "  // All done.\n",
              "  yield {\n",
              "    response: {\n",
              "      action: 'complete',\n",
              "    }\n",
              "  };\n",
              "}\n",
              "\n",
              "scope.google = scope.google || {};\n",
              "scope.google.colab = scope.google.colab || {};\n",
              "scope.google.colab._files = {\n",
              "  _uploadFiles,\n",
              "  _uploadFilesContinue,\n",
              "};\n",
              "})(self);\n",
              "</script> "
            ]
          },
          "metadata": {}
        },
        {
          "output_type": "stream",
          "name": "stdout",
          "text": [
            "Saving spotify_songs.csv to spotify_songs.csv\n"
          ]
        }
      ]
    },
    {
      "cell_type": "code",
      "source": [
        "df = pd.read_csv(r'spotify_songs.csv')\n",
        "df"
      ],
      "metadata": {
        "colab": {
          "base_uri": "https://localhost:8080/",
          "height": 991
        },
        "id": "cN1AXofyMuaf",
        "outputId": "a73f6cf3-2853-41e9-bd6c-22ed21c12f63"
      },
      "execution_count": 3,
      "outputs": [
        {
          "output_type": "execute_result",
          "data": {
            "text/plain": [
              "                     track_id  \\\n",
              "0      6f807x0ima9a1j3VPbc7VN   \n",
              "1      0r7CVbZTWZgbTCYdfa2P31   \n",
              "2      1z1Hg7Vb0AhHDiEmnDE79l   \n",
              "3      75FpbthrwQmzHlBJLuGdC7   \n",
              "4      1e8PAfcKUYoKkxPhrHqw4x   \n",
              "...                       ...   \n",
              "32828  7bxnKAamR3snQ1VGLuVfC1   \n",
              "32829  5Aevni09Em4575077nkWHz   \n",
              "32830  7ImMqPP3Q1yfUHvsdn7wEo   \n",
              "32831  2m69mhnfQ1Oq6lGtXuYhgX   \n",
              "32832  29zWqhca3zt5NsckZqDf6c   \n",
              "\n",
              "                                              track_name      track_artist  \\\n",
              "0      I Don't Care (with Justin Bieber) - Loud Luxur...        Ed Sheeran   \n",
              "1                        Memories - Dillon Francis Remix          Maroon 5   \n",
              "2                        All the Time - Don Diablo Remix      Zara Larsson   \n",
              "3                      Call You Mine - Keanu Silva Remix  The Chainsmokers   \n",
              "4                Someone You Loved - Future Humans Remix     Lewis Capaldi   \n",
              "...                                                  ...               ...   \n",
              "32828               City Of Lights - Official Radio Edit      Lush & Simon   \n",
              "32829                Closer - Sultan & Ned Shepard Remix    Tegan and Sara   \n",
              "32830                       Sweet Surrender - Radio Edit       Starkillers   \n",
              "32831                     Only For You - Maor Levi Remix            Mat Zo   \n",
              "32832                             Typhoon - Original Mix      Julian Calor   \n",
              "\n",
              "       track_popularity          track_album_id  \\\n",
              "0                    66  2oCs0DGTsRO98Gh5ZSl2Cx   \n",
              "1                    67  63rPSO264uRjW1X5E6cWv6   \n",
              "2                    70  1HoSmj2eLcsrR0vE9gThr4   \n",
              "3                    60  1nqYsOef1yKKuGOVchbsk6   \n",
              "4                    69  7m7vv9wlQ4i0LFuJiE2zsQ   \n",
              "...                 ...                     ...   \n",
              "32828                42  2azRoBBWEEEYhqV6sb7JrT   \n",
              "32829                20  6kD6KLxj7s8eCE3ABvAyf5   \n",
              "32830                14  0ltWNSY9JgxoIZO4VzuCa6   \n",
              "32831                15  1fGrOkHnHJcStl14zNx8Jy   \n",
              "32832                27  0X3mUOm6MhxR7PzxG95rAo   \n",
              "\n",
              "                                        track_album_name  \\\n",
              "0      I Don't Care (with Justin Bieber) [Loud Luxury...   \n",
              "1                        Memories (Dillon Francis Remix)   \n",
              "2                        All the Time (Don Diablo Remix)   \n",
              "3                            Call You Mine - The Remixes   \n",
              "4                Someone You Loved (Future Humans Remix)   \n",
              "...                                                  ...   \n",
              "32828                         City Of Lights (Vocal Mix)   \n",
              "32829                                     Closer Remixed   \n",
              "32830                       Sweet Surrender (Radio Edit)   \n",
              "32831                             Only For You (Remixes)   \n",
              "32832                                      Typhoon/Storm   \n",
              "\n",
              "      track_album_release_date    playlist_name             playlist_id  \\\n",
              "0                   2019-06-14        Pop Remix  37i9dQZF1DXcZDD7cfEKhW   \n",
              "1                   2019-12-13        Pop Remix  37i9dQZF1DXcZDD7cfEKhW   \n",
              "2                   2019-07-05        Pop Remix  37i9dQZF1DXcZDD7cfEKhW   \n",
              "3                   2019-07-19        Pop Remix  37i9dQZF1DXcZDD7cfEKhW   \n",
              "4                   2019-03-05        Pop Remix  37i9dQZF1DXcZDD7cfEKhW   \n",
              "...                        ...              ...                     ...   \n",
              "32828               2014-04-28  ♥ EDM LOVE 2020  6jI1gFr6ANFtT8MmTvA2Ux   \n",
              "32829               2013-03-08  ♥ EDM LOVE 2020  6jI1gFr6ANFtT8MmTvA2Ux   \n",
              "32830               2014-04-21  ♥ EDM LOVE 2020  6jI1gFr6ANFtT8MmTvA2Ux   \n",
              "32831               2014-01-01  ♥ EDM LOVE 2020  6jI1gFr6ANFtT8MmTvA2Ux   \n",
              "32832               2014-03-03  ♥ EDM LOVE 2020  6jI1gFr6ANFtT8MmTvA2Ux   \n",
              "\n",
              "      playlist_genre  ... key  loudness  mode  speechiness  acousticness  \\\n",
              "0                pop  ...   6    -2.634     1       0.0583      0.102000   \n",
              "1                pop  ...  11    -4.969     1       0.0373      0.072400   \n",
              "2                pop  ...   1    -3.432     0       0.0742      0.079400   \n",
              "3                pop  ...   7    -3.778     1       0.1020      0.028700   \n",
              "4                pop  ...   1    -4.672     1       0.0359      0.080300   \n",
              "...              ...  ...  ..       ...   ...          ...           ...   \n",
              "32828            edm  ...   2    -1.814     1       0.0936      0.076600   \n",
              "32829            edm  ...   0    -4.462     1       0.0420      0.001710   \n",
              "32830            edm  ...   6    -4.899     0       0.0481      0.108000   \n",
              "32831            edm  ...   2    -3.361     1       0.1090      0.007920   \n",
              "32832            edm  ...   5    -4.571     0       0.0385      0.000133   \n",
              "\n",
              "       instrumentalness  liveness  valence    tempo  duration_ms  \n",
              "0              0.000000    0.0653   0.5180  122.036       194754  \n",
              "1              0.004210    0.3570   0.6930   99.972       162600  \n",
              "2              0.000023    0.1100   0.6130  124.008       176616  \n",
              "3              0.000009    0.2040   0.2770  121.956       169093  \n",
              "4              0.000000    0.0833   0.7250  123.976       189052  \n",
              "...                 ...       ...      ...      ...          ...  \n",
              "32828          0.000000    0.0668   0.2100  128.170       204375  \n",
              "32829          0.004270    0.3750   0.4000  128.041       353120  \n",
              "32830          0.000001    0.1500   0.4360  127.989       210112  \n",
              "32831          0.127000    0.3430   0.3080  128.008       367432  \n",
              "32832          0.341000    0.7420   0.0894  127.984       337500  \n",
              "\n",
              "[32833 rows x 23 columns]"
            ],
            "text/html": [
              "\n",
              "  <div id=\"df-b850f6e1-1dff-41d6-85ef-72053049756f\">\n",
              "    <div class=\"colab-df-container\">\n",
              "      <div>\n",
              "<style scoped>\n",
              "    .dataframe tbody tr th:only-of-type {\n",
              "        vertical-align: middle;\n",
              "    }\n",
              "\n",
              "    .dataframe tbody tr th {\n",
              "        vertical-align: top;\n",
              "    }\n",
              "\n",
              "    .dataframe thead th {\n",
              "        text-align: right;\n",
              "    }\n",
              "</style>\n",
              "<table border=\"1\" class=\"dataframe\">\n",
              "  <thead>\n",
              "    <tr style=\"text-align: right;\">\n",
              "      <th></th>\n",
              "      <th>track_id</th>\n",
              "      <th>track_name</th>\n",
              "      <th>track_artist</th>\n",
              "      <th>track_popularity</th>\n",
              "      <th>track_album_id</th>\n",
              "      <th>track_album_name</th>\n",
              "      <th>track_album_release_date</th>\n",
              "      <th>playlist_name</th>\n",
              "      <th>playlist_id</th>\n",
              "      <th>playlist_genre</th>\n",
              "      <th>...</th>\n",
              "      <th>key</th>\n",
              "      <th>loudness</th>\n",
              "      <th>mode</th>\n",
              "      <th>speechiness</th>\n",
              "      <th>acousticness</th>\n",
              "      <th>instrumentalness</th>\n",
              "      <th>liveness</th>\n",
              "      <th>valence</th>\n",
              "      <th>tempo</th>\n",
              "      <th>duration_ms</th>\n",
              "    </tr>\n",
              "  </thead>\n",
              "  <tbody>\n",
              "    <tr>\n",
              "      <th>0</th>\n",
              "      <td>6f807x0ima9a1j3VPbc7VN</td>\n",
              "      <td>I Don't Care (with Justin Bieber) - Loud Luxur...</td>\n",
              "      <td>Ed Sheeran</td>\n",
              "      <td>66</td>\n",
              "      <td>2oCs0DGTsRO98Gh5ZSl2Cx</td>\n",
              "      <td>I Don't Care (with Justin Bieber) [Loud Luxury...</td>\n",
              "      <td>2019-06-14</td>\n",
              "      <td>Pop Remix</td>\n",
              "      <td>37i9dQZF1DXcZDD7cfEKhW</td>\n",
              "      <td>pop</td>\n",
              "      <td>...</td>\n",
              "      <td>6</td>\n",
              "      <td>-2.634</td>\n",
              "      <td>1</td>\n",
              "      <td>0.0583</td>\n",
              "      <td>0.102000</td>\n",
              "      <td>0.000000</td>\n",
              "      <td>0.0653</td>\n",
              "      <td>0.5180</td>\n",
              "      <td>122.036</td>\n",
              "      <td>194754</td>\n",
              "    </tr>\n",
              "    <tr>\n",
              "      <th>1</th>\n",
              "      <td>0r7CVbZTWZgbTCYdfa2P31</td>\n",
              "      <td>Memories - Dillon Francis Remix</td>\n",
              "      <td>Maroon 5</td>\n",
              "      <td>67</td>\n",
              "      <td>63rPSO264uRjW1X5E6cWv6</td>\n",
              "      <td>Memories (Dillon Francis Remix)</td>\n",
              "      <td>2019-12-13</td>\n",
              "      <td>Pop Remix</td>\n",
              "      <td>37i9dQZF1DXcZDD7cfEKhW</td>\n",
              "      <td>pop</td>\n",
              "      <td>...</td>\n",
              "      <td>11</td>\n",
              "      <td>-4.969</td>\n",
              "      <td>1</td>\n",
              "      <td>0.0373</td>\n",
              "      <td>0.072400</td>\n",
              "      <td>0.004210</td>\n",
              "      <td>0.3570</td>\n",
              "      <td>0.6930</td>\n",
              "      <td>99.972</td>\n",
              "      <td>162600</td>\n",
              "    </tr>\n",
              "    <tr>\n",
              "      <th>2</th>\n",
              "      <td>1z1Hg7Vb0AhHDiEmnDE79l</td>\n",
              "      <td>All the Time - Don Diablo Remix</td>\n",
              "      <td>Zara Larsson</td>\n",
              "      <td>70</td>\n",
              "      <td>1HoSmj2eLcsrR0vE9gThr4</td>\n",
              "      <td>All the Time (Don Diablo Remix)</td>\n",
              "      <td>2019-07-05</td>\n",
              "      <td>Pop Remix</td>\n",
              "      <td>37i9dQZF1DXcZDD7cfEKhW</td>\n",
              "      <td>pop</td>\n",
              "      <td>...</td>\n",
              "      <td>1</td>\n",
              "      <td>-3.432</td>\n",
              "      <td>0</td>\n",
              "      <td>0.0742</td>\n",
              "      <td>0.079400</td>\n",
              "      <td>0.000023</td>\n",
              "      <td>0.1100</td>\n",
              "      <td>0.6130</td>\n",
              "      <td>124.008</td>\n",
              "      <td>176616</td>\n",
              "    </tr>\n",
              "    <tr>\n",
              "      <th>3</th>\n",
              "      <td>75FpbthrwQmzHlBJLuGdC7</td>\n",
              "      <td>Call You Mine - Keanu Silva Remix</td>\n",
              "      <td>The Chainsmokers</td>\n",
              "      <td>60</td>\n",
              "      <td>1nqYsOef1yKKuGOVchbsk6</td>\n",
              "      <td>Call You Mine - The Remixes</td>\n",
              "      <td>2019-07-19</td>\n",
              "      <td>Pop Remix</td>\n",
              "      <td>37i9dQZF1DXcZDD7cfEKhW</td>\n",
              "      <td>pop</td>\n",
              "      <td>...</td>\n",
              "      <td>7</td>\n",
              "      <td>-3.778</td>\n",
              "      <td>1</td>\n",
              "      <td>0.1020</td>\n",
              "      <td>0.028700</td>\n",
              "      <td>0.000009</td>\n",
              "      <td>0.2040</td>\n",
              "      <td>0.2770</td>\n",
              "      <td>121.956</td>\n",
              "      <td>169093</td>\n",
              "    </tr>\n",
              "    <tr>\n",
              "      <th>4</th>\n",
              "      <td>1e8PAfcKUYoKkxPhrHqw4x</td>\n",
              "      <td>Someone You Loved - Future Humans Remix</td>\n",
              "      <td>Lewis Capaldi</td>\n",
              "      <td>69</td>\n",
              "      <td>7m7vv9wlQ4i0LFuJiE2zsQ</td>\n",
              "      <td>Someone You Loved (Future Humans Remix)</td>\n",
              "      <td>2019-03-05</td>\n",
              "      <td>Pop Remix</td>\n",
              "      <td>37i9dQZF1DXcZDD7cfEKhW</td>\n",
              "      <td>pop</td>\n",
              "      <td>...</td>\n",
              "      <td>1</td>\n",
              "      <td>-4.672</td>\n",
              "      <td>1</td>\n",
              "      <td>0.0359</td>\n",
              "      <td>0.080300</td>\n",
              "      <td>0.000000</td>\n",
              "      <td>0.0833</td>\n",
              "      <td>0.7250</td>\n",
              "      <td>123.976</td>\n",
              "      <td>189052</td>\n",
              "    </tr>\n",
              "    <tr>\n",
              "      <th>...</th>\n",
              "      <td>...</td>\n",
              "      <td>...</td>\n",
              "      <td>...</td>\n",
              "      <td>...</td>\n",
              "      <td>...</td>\n",
              "      <td>...</td>\n",
              "      <td>...</td>\n",
              "      <td>...</td>\n",
              "      <td>...</td>\n",
              "      <td>...</td>\n",
              "      <td>...</td>\n",
              "      <td>...</td>\n",
              "      <td>...</td>\n",
              "      <td>...</td>\n",
              "      <td>...</td>\n",
              "      <td>...</td>\n",
              "      <td>...</td>\n",
              "      <td>...</td>\n",
              "      <td>...</td>\n",
              "      <td>...</td>\n",
              "      <td>...</td>\n",
              "    </tr>\n",
              "    <tr>\n",
              "      <th>32828</th>\n",
              "      <td>7bxnKAamR3snQ1VGLuVfC1</td>\n",
              "      <td>City Of Lights - Official Radio Edit</td>\n",
              "      <td>Lush &amp; Simon</td>\n",
              "      <td>42</td>\n",
              "      <td>2azRoBBWEEEYhqV6sb7JrT</td>\n",
              "      <td>City Of Lights (Vocal Mix)</td>\n",
              "      <td>2014-04-28</td>\n",
              "      <td>♥ EDM LOVE 2020</td>\n",
              "      <td>6jI1gFr6ANFtT8MmTvA2Ux</td>\n",
              "      <td>edm</td>\n",
              "      <td>...</td>\n",
              "      <td>2</td>\n",
              "      <td>-1.814</td>\n",
              "      <td>1</td>\n",
              "      <td>0.0936</td>\n",
              "      <td>0.076600</td>\n",
              "      <td>0.000000</td>\n",
              "      <td>0.0668</td>\n",
              "      <td>0.2100</td>\n",
              "      <td>128.170</td>\n",
              "      <td>204375</td>\n",
              "    </tr>\n",
              "    <tr>\n",
              "      <th>32829</th>\n",
              "      <td>5Aevni09Em4575077nkWHz</td>\n",
              "      <td>Closer - Sultan &amp; Ned Shepard Remix</td>\n",
              "      <td>Tegan and Sara</td>\n",
              "      <td>20</td>\n",
              "      <td>6kD6KLxj7s8eCE3ABvAyf5</td>\n",
              "      <td>Closer Remixed</td>\n",
              "      <td>2013-03-08</td>\n",
              "      <td>♥ EDM LOVE 2020</td>\n",
              "      <td>6jI1gFr6ANFtT8MmTvA2Ux</td>\n",
              "      <td>edm</td>\n",
              "      <td>...</td>\n",
              "      <td>0</td>\n",
              "      <td>-4.462</td>\n",
              "      <td>1</td>\n",
              "      <td>0.0420</td>\n",
              "      <td>0.001710</td>\n",
              "      <td>0.004270</td>\n",
              "      <td>0.3750</td>\n",
              "      <td>0.4000</td>\n",
              "      <td>128.041</td>\n",
              "      <td>353120</td>\n",
              "    </tr>\n",
              "    <tr>\n",
              "      <th>32830</th>\n",
              "      <td>7ImMqPP3Q1yfUHvsdn7wEo</td>\n",
              "      <td>Sweet Surrender - Radio Edit</td>\n",
              "      <td>Starkillers</td>\n",
              "      <td>14</td>\n",
              "      <td>0ltWNSY9JgxoIZO4VzuCa6</td>\n",
              "      <td>Sweet Surrender (Radio Edit)</td>\n",
              "      <td>2014-04-21</td>\n",
              "      <td>♥ EDM LOVE 2020</td>\n",
              "      <td>6jI1gFr6ANFtT8MmTvA2Ux</td>\n",
              "      <td>edm</td>\n",
              "      <td>...</td>\n",
              "      <td>6</td>\n",
              "      <td>-4.899</td>\n",
              "      <td>0</td>\n",
              "      <td>0.0481</td>\n",
              "      <td>0.108000</td>\n",
              "      <td>0.000001</td>\n",
              "      <td>0.1500</td>\n",
              "      <td>0.4360</td>\n",
              "      <td>127.989</td>\n",
              "      <td>210112</td>\n",
              "    </tr>\n",
              "    <tr>\n",
              "      <th>32831</th>\n",
              "      <td>2m69mhnfQ1Oq6lGtXuYhgX</td>\n",
              "      <td>Only For You - Maor Levi Remix</td>\n",
              "      <td>Mat Zo</td>\n",
              "      <td>15</td>\n",
              "      <td>1fGrOkHnHJcStl14zNx8Jy</td>\n",
              "      <td>Only For You (Remixes)</td>\n",
              "      <td>2014-01-01</td>\n",
              "      <td>♥ EDM LOVE 2020</td>\n",
              "      <td>6jI1gFr6ANFtT8MmTvA2Ux</td>\n",
              "      <td>edm</td>\n",
              "      <td>...</td>\n",
              "      <td>2</td>\n",
              "      <td>-3.361</td>\n",
              "      <td>1</td>\n",
              "      <td>0.1090</td>\n",
              "      <td>0.007920</td>\n",
              "      <td>0.127000</td>\n",
              "      <td>0.3430</td>\n",
              "      <td>0.3080</td>\n",
              "      <td>128.008</td>\n",
              "      <td>367432</td>\n",
              "    </tr>\n",
              "    <tr>\n",
              "      <th>32832</th>\n",
              "      <td>29zWqhca3zt5NsckZqDf6c</td>\n",
              "      <td>Typhoon - Original Mix</td>\n",
              "      <td>Julian Calor</td>\n",
              "      <td>27</td>\n",
              "      <td>0X3mUOm6MhxR7PzxG95rAo</td>\n",
              "      <td>Typhoon/Storm</td>\n",
              "      <td>2014-03-03</td>\n",
              "      <td>♥ EDM LOVE 2020</td>\n",
              "      <td>6jI1gFr6ANFtT8MmTvA2Ux</td>\n",
              "      <td>edm</td>\n",
              "      <td>...</td>\n",
              "      <td>5</td>\n",
              "      <td>-4.571</td>\n",
              "      <td>0</td>\n",
              "      <td>0.0385</td>\n",
              "      <td>0.000133</td>\n",
              "      <td>0.341000</td>\n",
              "      <td>0.7420</td>\n",
              "      <td>0.0894</td>\n",
              "      <td>127.984</td>\n",
              "      <td>337500</td>\n",
              "    </tr>\n",
              "  </tbody>\n",
              "</table>\n",
              "<p>32833 rows × 23 columns</p>\n",
              "</div>\n",
              "      <button class=\"colab-df-convert\" onclick=\"convertToInteractive('df-b850f6e1-1dff-41d6-85ef-72053049756f')\"\n",
              "              title=\"Convert this dataframe to an interactive table.\"\n",
              "              style=\"display:none;\">\n",
              "        \n",
              "  <svg xmlns=\"http://www.w3.org/2000/svg\" height=\"24px\"viewBox=\"0 0 24 24\"\n",
              "       width=\"24px\">\n",
              "    <path d=\"M0 0h24v24H0V0z\" fill=\"none\"/>\n",
              "    <path d=\"M18.56 5.44l.94 2.06.94-2.06 2.06-.94-2.06-.94-.94-2.06-.94 2.06-2.06.94zm-11 1L8.5 8.5l.94-2.06 2.06-.94-2.06-.94L8.5 2.5l-.94 2.06-2.06.94zm10 10l.94 2.06.94-2.06 2.06-.94-2.06-.94-.94-2.06-.94 2.06-2.06.94z\"/><path d=\"M17.41 7.96l-1.37-1.37c-.4-.4-.92-.59-1.43-.59-.52 0-1.04.2-1.43.59L10.3 9.45l-7.72 7.72c-.78.78-.78 2.05 0 2.83L4 21.41c.39.39.9.59 1.41.59.51 0 1.02-.2 1.41-.59l7.78-7.78 2.81-2.81c.8-.78.8-2.07 0-2.86zM5.41 20L4 18.59l7.72-7.72 1.47 1.35L5.41 20z\"/>\n",
              "  </svg>\n",
              "      </button>\n",
              "      \n",
              "  <style>\n",
              "    .colab-df-container {\n",
              "      display:flex;\n",
              "      flex-wrap:wrap;\n",
              "      gap: 12px;\n",
              "    }\n",
              "\n",
              "    .colab-df-convert {\n",
              "      background-color: #E8F0FE;\n",
              "      border: none;\n",
              "      border-radius: 50%;\n",
              "      cursor: pointer;\n",
              "      display: none;\n",
              "      fill: #1967D2;\n",
              "      height: 32px;\n",
              "      padding: 0 0 0 0;\n",
              "      width: 32px;\n",
              "    }\n",
              "\n",
              "    .colab-df-convert:hover {\n",
              "      background-color: #E2EBFA;\n",
              "      box-shadow: 0px 1px 2px rgba(60, 64, 67, 0.3), 0px 1px 3px 1px rgba(60, 64, 67, 0.15);\n",
              "      fill: #174EA6;\n",
              "    }\n",
              "\n",
              "    [theme=dark] .colab-df-convert {\n",
              "      background-color: #3B4455;\n",
              "      fill: #D2E3FC;\n",
              "    }\n",
              "\n",
              "    [theme=dark] .colab-df-convert:hover {\n",
              "      background-color: #434B5C;\n",
              "      box-shadow: 0px 1px 3px 1px rgba(0, 0, 0, 0.15);\n",
              "      filter: drop-shadow(0px 1px 2px rgba(0, 0, 0, 0.3));\n",
              "      fill: #FFFFFF;\n",
              "    }\n",
              "  </style>\n",
              "\n",
              "      <script>\n",
              "        const buttonEl =\n",
              "          document.querySelector('#df-b850f6e1-1dff-41d6-85ef-72053049756f button.colab-df-convert');\n",
              "        buttonEl.style.display =\n",
              "          google.colab.kernel.accessAllowed ? 'block' : 'none';\n",
              "\n",
              "        async function convertToInteractive(key) {\n",
              "          const element = document.querySelector('#df-b850f6e1-1dff-41d6-85ef-72053049756f');\n",
              "          const dataTable =\n",
              "            await google.colab.kernel.invokeFunction('convertToInteractive',\n",
              "                                                     [key], {});\n",
              "          if (!dataTable) return;\n",
              "\n",
              "          const docLinkHtml = 'Like what you see? Visit the ' +\n",
              "            '<a target=\"_blank\" href=https://colab.research.google.com/notebooks/data_table.ipynb>data table notebook</a>'\n",
              "            + ' to learn more about interactive tables.';\n",
              "          element.innerHTML = '';\n",
              "          dataTable['output_type'] = 'display_data';\n",
              "          await google.colab.output.renderOutput(dataTable, element);\n",
              "          const docLink = document.createElement('div');\n",
              "          docLink.innerHTML = docLinkHtml;\n",
              "          element.appendChild(docLink);\n",
              "        }\n",
              "      </script>\n",
              "    </div>\n",
              "  </div>\n",
              "  "
            ]
          },
          "metadata": {},
          "execution_count": 3
        }
      ]
    },
    {
      "cell_type": "code",
      "source": [
        "df.shape"
      ],
      "metadata": {
        "colab": {
          "base_uri": "https://localhost:8080/"
        },
        "id": "CINj0P-2NFFx",
        "outputId": "659c0bae-8925-432e-8970-e473841369ff"
      },
      "execution_count": 4,
      "outputs": [
        {
          "output_type": "execute_result",
          "data": {
            "text/plain": [
              "(32833, 23)"
            ]
          },
          "metadata": {},
          "execution_count": 4
        }
      ]
    },
    {
      "cell_type": "code",
      "source": [
        "df.head()"
      ],
      "metadata": {
        "colab": {
          "base_uri": "https://localhost:8080/",
          "height": 595
        },
        "id": "ykArJGhaNIfm",
        "outputId": "37d6322a-9c2b-4b61-b327-5120b054144b"
      },
      "execution_count": 5,
      "outputs": [
        {
          "output_type": "execute_result",
          "data": {
            "text/plain": [
              "                 track_id                                         track_name  \\\n",
              "0  6f807x0ima9a1j3VPbc7VN  I Don't Care (with Justin Bieber) - Loud Luxur...   \n",
              "1  0r7CVbZTWZgbTCYdfa2P31                    Memories - Dillon Francis Remix   \n",
              "2  1z1Hg7Vb0AhHDiEmnDE79l                    All the Time - Don Diablo Remix   \n",
              "3  75FpbthrwQmzHlBJLuGdC7                  Call You Mine - Keanu Silva Remix   \n",
              "4  1e8PAfcKUYoKkxPhrHqw4x            Someone You Loved - Future Humans Remix   \n",
              "\n",
              "       track_artist  track_popularity          track_album_id  \\\n",
              "0        Ed Sheeran                66  2oCs0DGTsRO98Gh5ZSl2Cx   \n",
              "1          Maroon 5                67  63rPSO264uRjW1X5E6cWv6   \n",
              "2      Zara Larsson                70  1HoSmj2eLcsrR0vE9gThr4   \n",
              "3  The Chainsmokers                60  1nqYsOef1yKKuGOVchbsk6   \n",
              "4     Lewis Capaldi                69  7m7vv9wlQ4i0LFuJiE2zsQ   \n",
              "\n",
              "                                    track_album_name track_album_release_date  \\\n",
              "0  I Don't Care (with Justin Bieber) [Loud Luxury...               2019-06-14   \n",
              "1                    Memories (Dillon Francis Remix)               2019-12-13   \n",
              "2                    All the Time (Don Diablo Remix)               2019-07-05   \n",
              "3                        Call You Mine - The Remixes               2019-07-19   \n",
              "4            Someone You Loved (Future Humans Remix)               2019-03-05   \n",
              "\n",
              "  playlist_name             playlist_id playlist_genre  ... key  loudness  \\\n",
              "0     Pop Remix  37i9dQZF1DXcZDD7cfEKhW            pop  ...   6    -2.634   \n",
              "1     Pop Remix  37i9dQZF1DXcZDD7cfEKhW            pop  ...  11    -4.969   \n",
              "2     Pop Remix  37i9dQZF1DXcZDD7cfEKhW            pop  ...   1    -3.432   \n",
              "3     Pop Remix  37i9dQZF1DXcZDD7cfEKhW            pop  ...   7    -3.778   \n",
              "4     Pop Remix  37i9dQZF1DXcZDD7cfEKhW            pop  ...   1    -4.672   \n",
              "\n",
              "   mode  speechiness  acousticness  instrumentalness  liveness  valence  \\\n",
              "0     1       0.0583        0.1020          0.000000    0.0653    0.518   \n",
              "1     1       0.0373        0.0724          0.004210    0.3570    0.693   \n",
              "2     0       0.0742        0.0794          0.000023    0.1100    0.613   \n",
              "3     1       0.1020        0.0287          0.000009    0.2040    0.277   \n",
              "4     1       0.0359        0.0803          0.000000    0.0833    0.725   \n",
              "\n",
              "     tempo  duration_ms  \n",
              "0  122.036       194754  \n",
              "1   99.972       162600  \n",
              "2  124.008       176616  \n",
              "3  121.956       169093  \n",
              "4  123.976       189052  \n",
              "\n",
              "[5 rows x 23 columns]"
            ],
            "text/html": [
              "\n",
              "  <div id=\"df-a760256f-d1c1-464c-ac9a-17672c7d1637\">\n",
              "    <div class=\"colab-df-container\">\n",
              "      <div>\n",
              "<style scoped>\n",
              "    .dataframe tbody tr th:only-of-type {\n",
              "        vertical-align: middle;\n",
              "    }\n",
              "\n",
              "    .dataframe tbody tr th {\n",
              "        vertical-align: top;\n",
              "    }\n",
              "\n",
              "    .dataframe thead th {\n",
              "        text-align: right;\n",
              "    }\n",
              "</style>\n",
              "<table border=\"1\" class=\"dataframe\">\n",
              "  <thead>\n",
              "    <tr style=\"text-align: right;\">\n",
              "      <th></th>\n",
              "      <th>track_id</th>\n",
              "      <th>track_name</th>\n",
              "      <th>track_artist</th>\n",
              "      <th>track_popularity</th>\n",
              "      <th>track_album_id</th>\n",
              "      <th>track_album_name</th>\n",
              "      <th>track_album_release_date</th>\n",
              "      <th>playlist_name</th>\n",
              "      <th>playlist_id</th>\n",
              "      <th>playlist_genre</th>\n",
              "      <th>...</th>\n",
              "      <th>key</th>\n",
              "      <th>loudness</th>\n",
              "      <th>mode</th>\n",
              "      <th>speechiness</th>\n",
              "      <th>acousticness</th>\n",
              "      <th>instrumentalness</th>\n",
              "      <th>liveness</th>\n",
              "      <th>valence</th>\n",
              "      <th>tempo</th>\n",
              "      <th>duration_ms</th>\n",
              "    </tr>\n",
              "  </thead>\n",
              "  <tbody>\n",
              "    <tr>\n",
              "      <th>0</th>\n",
              "      <td>6f807x0ima9a1j3VPbc7VN</td>\n",
              "      <td>I Don't Care (with Justin Bieber) - Loud Luxur...</td>\n",
              "      <td>Ed Sheeran</td>\n",
              "      <td>66</td>\n",
              "      <td>2oCs0DGTsRO98Gh5ZSl2Cx</td>\n",
              "      <td>I Don't Care (with Justin Bieber) [Loud Luxury...</td>\n",
              "      <td>2019-06-14</td>\n",
              "      <td>Pop Remix</td>\n",
              "      <td>37i9dQZF1DXcZDD7cfEKhW</td>\n",
              "      <td>pop</td>\n",
              "      <td>...</td>\n",
              "      <td>6</td>\n",
              "      <td>-2.634</td>\n",
              "      <td>1</td>\n",
              "      <td>0.0583</td>\n",
              "      <td>0.1020</td>\n",
              "      <td>0.000000</td>\n",
              "      <td>0.0653</td>\n",
              "      <td>0.518</td>\n",
              "      <td>122.036</td>\n",
              "      <td>194754</td>\n",
              "    </tr>\n",
              "    <tr>\n",
              "      <th>1</th>\n",
              "      <td>0r7CVbZTWZgbTCYdfa2P31</td>\n",
              "      <td>Memories - Dillon Francis Remix</td>\n",
              "      <td>Maroon 5</td>\n",
              "      <td>67</td>\n",
              "      <td>63rPSO264uRjW1X5E6cWv6</td>\n",
              "      <td>Memories (Dillon Francis Remix)</td>\n",
              "      <td>2019-12-13</td>\n",
              "      <td>Pop Remix</td>\n",
              "      <td>37i9dQZF1DXcZDD7cfEKhW</td>\n",
              "      <td>pop</td>\n",
              "      <td>...</td>\n",
              "      <td>11</td>\n",
              "      <td>-4.969</td>\n",
              "      <td>1</td>\n",
              "      <td>0.0373</td>\n",
              "      <td>0.0724</td>\n",
              "      <td>0.004210</td>\n",
              "      <td>0.3570</td>\n",
              "      <td>0.693</td>\n",
              "      <td>99.972</td>\n",
              "      <td>162600</td>\n",
              "    </tr>\n",
              "    <tr>\n",
              "      <th>2</th>\n",
              "      <td>1z1Hg7Vb0AhHDiEmnDE79l</td>\n",
              "      <td>All the Time - Don Diablo Remix</td>\n",
              "      <td>Zara Larsson</td>\n",
              "      <td>70</td>\n",
              "      <td>1HoSmj2eLcsrR0vE9gThr4</td>\n",
              "      <td>All the Time (Don Diablo Remix)</td>\n",
              "      <td>2019-07-05</td>\n",
              "      <td>Pop Remix</td>\n",
              "      <td>37i9dQZF1DXcZDD7cfEKhW</td>\n",
              "      <td>pop</td>\n",
              "      <td>...</td>\n",
              "      <td>1</td>\n",
              "      <td>-3.432</td>\n",
              "      <td>0</td>\n",
              "      <td>0.0742</td>\n",
              "      <td>0.0794</td>\n",
              "      <td>0.000023</td>\n",
              "      <td>0.1100</td>\n",
              "      <td>0.613</td>\n",
              "      <td>124.008</td>\n",
              "      <td>176616</td>\n",
              "    </tr>\n",
              "    <tr>\n",
              "      <th>3</th>\n",
              "      <td>75FpbthrwQmzHlBJLuGdC7</td>\n",
              "      <td>Call You Mine - Keanu Silva Remix</td>\n",
              "      <td>The Chainsmokers</td>\n",
              "      <td>60</td>\n",
              "      <td>1nqYsOef1yKKuGOVchbsk6</td>\n",
              "      <td>Call You Mine - The Remixes</td>\n",
              "      <td>2019-07-19</td>\n",
              "      <td>Pop Remix</td>\n",
              "      <td>37i9dQZF1DXcZDD7cfEKhW</td>\n",
              "      <td>pop</td>\n",
              "      <td>...</td>\n",
              "      <td>7</td>\n",
              "      <td>-3.778</td>\n",
              "      <td>1</td>\n",
              "      <td>0.1020</td>\n",
              "      <td>0.0287</td>\n",
              "      <td>0.000009</td>\n",
              "      <td>0.2040</td>\n",
              "      <td>0.277</td>\n",
              "      <td>121.956</td>\n",
              "      <td>169093</td>\n",
              "    </tr>\n",
              "    <tr>\n",
              "      <th>4</th>\n",
              "      <td>1e8PAfcKUYoKkxPhrHqw4x</td>\n",
              "      <td>Someone You Loved - Future Humans Remix</td>\n",
              "      <td>Lewis Capaldi</td>\n",
              "      <td>69</td>\n",
              "      <td>7m7vv9wlQ4i0LFuJiE2zsQ</td>\n",
              "      <td>Someone You Loved (Future Humans Remix)</td>\n",
              "      <td>2019-03-05</td>\n",
              "      <td>Pop Remix</td>\n",
              "      <td>37i9dQZF1DXcZDD7cfEKhW</td>\n",
              "      <td>pop</td>\n",
              "      <td>...</td>\n",
              "      <td>1</td>\n",
              "      <td>-4.672</td>\n",
              "      <td>1</td>\n",
              "      <td>0.0359</td>\n",
              "      <td>0.0803</td>\n",
              "      <td>0.000000</td>\n",
              "      <td>0.0833</td>\n",
              "      <td>0.725</td>\n",
              "      <td>123.976</td>\n",
              "      <td>189052</td>\n",
              "    </tr>\n",
              "  </tbody>\n",
              "</table>\n",
              "<p>5 rows × 23 columns</p>\n",
              "</div>\n",
              "      <button class=\"colab-df-convert\" onclick=\"convertToInteractive('df-a760256f-d1c1-464c-ac9a-17672c7d1637')\"\n",
              "              title=\"Convert this dataframe to an interactive table.\"\n",
              "              style=\"display:none;\">\n",
              "        \n",
              "  <svg xmlns=\"http://www.w3.org/2000/svg\" height=\"24px\"viewBox=\"0 0 24 24\"\n",
              "       width=\"24px\">\n",
              "    <path d=\"M0 0h24v24H0V0z\" fill=\"none\"/>\n",
              "    <path d=\"M18.56 5.44l.94 2.06.94-2.06 2.06-.94-2.06-.94-.94-2.06-.94 2.06-2.06.94zm-11 1L8.5 8.5l.94-2.06 2.06-.94-2.06-.94L8.5 2.5l-.94 2.06-2.06.94zm10 10l.94 2.06.94-2.06 2.06-.94-2.06-.94-.94-2.06-.94 2.06-2.06.94z\"/><path d=\"M17.41 7.96l-1.37-1.37c-.4-.4-.92-.59-1.43-.59-.52 0-1.04.2-1.43.59L10.3 9.45l-7.72 7.72c-.78.78-.78 2.05 0 2.83L4 21.41c.39.39.9.59 1.41.59.51 0 1.02-.2 1.41-.59l7.78-7.78 2.81-2.81c.8-.78.8-2.07 0-2.86zM5.41 20L4 18.59l7.72-7.72 1.47 1.35L5.41 20z\"/>\n",
              "  </svg>\n",
              "      </button>\n",
              "      \n",
              "  <style>\n",
              "    .colab-df-container {\n",
              "      display:flex;\n",
              "      flex-wrap:wrap;\n",
              "      gap: 12px;\n",
              "    }\n",
              "\n",
              "    .colab-df-convert {\n",
              "      background-color: #E8F0FE;\n",
              "      border: none;\n",
              "      border-radius: 50%;\n",
              "      cursor: pointer;\n",
              "      display: none;\n",
              "      fill: #1967D2;\n",
              "      height: 32px;\n",
              "      padding: 0 0 0 0;\n",
              "      width: 32px;\n",
              "    }\n",
              "\n",
              "    .colab-df-convert:hover {\n",
              "      background-color: #E2EBFA;\n",
              "      box-shadow: 0px 1px 2px rgba(60, 64, 67, 0.3), 0px 1px 3px 1px rgba(60, 64, 67, 0.15);\n",
              "      fill: #174EA6;\n",
              "    }\n",
              "\n",
              "    [theme=dark] .colab-df-convert {\n",
              "      background-color: #3B4455;\n",
              "      fill: #D2E3FC;\n",
              "    }\n",
              "\n",
              "    [theme=dark] .colab-df-convert:hover {\n",
              "      background-color: #434B5C;\n",
              "      box-shadow: 0px 1px 3px 1px rgba(0, 0, 0, 0.15);\n",
              "      filter: drop-shadow(0px 1px 2px rgba(0, 0, 0, 0.3));\n",
              "      fill: #FFFFFF;\n",
              "    }\n",
              "  </style>\n",
              "\n",
              "      <script>\n",
              "        const buttonEl =\n",
              "          document.querySelector('#df-a760256f-d1c1-464c-ac9a-17672c7d1637 button.colab-df-convert');\n",
              "        buttonEl.style.display =\n",
              "          google.colab.kernel.accessAllowed ? 'block' : 'none';\n",
              "\n",
              "        async function convertToInteractive(key) {\n",
              "          const element = document.querySelector('#df-a760256f-d1c1-464c-ac9a-17672c7d1637');\n",
              "          const dataTable =\n",
              "            await google.colab.kernel.invokeFunction('convertToInteractive',\n",
              "                                                     [key], {});\n",
              "          if (!dataTable) return;\n",
              "\n",
              "          const docLinkHtml = 'Like what you see? Visit the ' +\n",
              "            '<a target=\"_blank\" href=https://colab.research.google.com/notebooks/data_table.ipynb>data table notebook</a>'\n",
              "            + ' to learn more about interactive tables.';\n",
              "          element.innerHTML = '';\n",
              "          dataTable['output_type'] = 'display_data';\n",
              "          await google.colab.output.renderOutput(dataTable, element);\n",
              "          const docLink = document.createElement('div');\n",
              "          docLink.innerHTML = docLinkHtml;\n",
              "          element.appendChild(docLink);\n",
              "        }\n",
              "      </script>\n",
              "    </div>\n",
              "  </div>\n",
              "  "
            ]
          },
          "metadata": {},
          "execution_count": 5
        }
      ]
    },
    {
      "cell_type": "code",
      "source": [
        "col_names = df.columns\n",
        "col_names"
      ],
      "metadata": {
        "colab": {
          "base_uri": "https://localhost:8080/"
        },
        "id": "YJFYsdQ5NKjl",
        "outputId": "c20bf02d-54cb-4042-9c62-7c771030b417"
      },
      "execution_count": 6,
      "outputs": [
        {
          "output_type": "execute_result",
          "data": {
            "text/plain": [
              "Index(['track_id', 'track_name', 'track_artist', 'track_popularity',\n",
              "       'track_album_id', 'track_album_name', 'track_album_release_date',\n",
              "       'playlist_name', 'playlist_id', 'playlist_genre', 'playlist_subgenre',\n",
              "       'danceability', 'energy', 'key', 'loudness', 'mode', 'speechiness',\n",
              "       'acousticness', 'instrumentalness', 'liveness', 'valence', 'tempo',\n",
              "       'duration_ms'],\n",
              "      dtype='object')"
            ]
          },
          "metadata": {},
          "execution_count": 6
        }
      ]
    },
    {
      "cell_type": "code",
      "source": [
        "df.isnull().sum()"
      ],
      "metadata": {
        "colab": {
          "base_uri": "https://localhost:8080/"
        },
        "id": "DJULc_xuNPjV",
        "outputId": "0a05e92a-2fa3-42c4-a264-bbaf35c28990"
      },
      "execution_count": 7,
      "outputs": [
        {
          "output_type": "execute_result",
          "data": {
            "text/plain": [
              "track_id                    0\n",
              "track_name                  5\n",
              "track_artist                5\n",
              "track_popularity            0\n",
              "track_album_id              0\n",
              "track_album_name            5\n",
              "track_album_release_date    0\n",
              "playlist_name               0\n",
              "playlist_id                 0\n",
              "playlist_genre              0\n",
              "playlist_subgenre           0\n",
              "danceability                0\n",
              "energy                      0\n",
              "key                         0\n",
              "loudness                    0\n",
              "mode                        0\n",
              "speechiness                 0\n",
              "acousticness                0\n",
              "instrumentalness            0\n",
              "liveness                    0\n",
              "valence                     0\n",
              "tempo                       0\n",
              "duration_ms                 0\n",
              "dtype: int64"
            ]
          },
          "metadata": {},
          "execution_count": 7
        }
      ]
    },
    {
      "cell_type": "code",
      "source": [
        "df.dropna(subset=['track_name','track_artist', 'track_album_name'], inplace=True)\n"
      ],
      "metadata": {
        "id": "rGK_Bz72N2hj"
      },
      "execution_count": 8,
      "outputs": []
    },
    {
      "cell_type": "code",
      "source": [
        "df.isnull().sum()"
      ],
      "metadata": {
        "colab": {
          "base_uri": "https://localhost:8080/"
        },
        "id": "SaZnfaSENWHx",
        "outputId": "610937f7-6a8a-4ef9-e123-876a1cf67ded"
      },
      "execution_count": 9,
      "outputs": [
        {
          "output_type": "execute_result",
          "data": {
            "text/plain": [
              "track_id                    0\n",
              "track_name                  0\n",
              "track_artist                0\n",
              "track_popularity            0\n",
              "track_album_id              0\n",
              "track_album_name            0\n",
              "track_album_release_date    0\n",
              "playlist_name               0\n",
              "playlist_id                 0\n",
              "playlist_genre              0\n",
              "playlist_subgenre           0\n",
              "danceability                0\n",
              "energy                      0\n",
              "key                         0\n",
              "loudness                    0\n",
              "mode                        0\n",
              "speechiness                 0\n",
              "acousticness                0\n",
              "instrumentalness            0\n",
              "liveness                    0\n",
              "valence                     0\n",
              "tempo                       0\n",
              "duration_ms                 0\n",
              "dtype: int64"
            ]
          },
          "metadata": {},
          "execution_count": 9
        }
      ]
    },
    {
      "cell_type": "code",
      "source": [
        "# Removing leading spaces from column names\n",
        "df.columns = df.columns.str.strip()"
      ],
      "metadata": {
        "id": "39VuoiidNZCz"
      },
      "execution_count": 10,
      "outputs": []
    },
    {
      "cell_type": "code",
      "source": [
        "x = df['track_popularity']\n",
        "y = df['duration_ms']\n"
      ],
      "metadata": {
        "id": "l9gkPXtMUiod"
      },
      "execution_count": 11,
      "outputs": []
    },
    {
      "cell_type": "code",
      "source": [
        "df.info()"
      ],
      "metadata": {
        "colab": {
          "base_uri": "https://localhost:8080/"
        },
        "id": "Mx-BOWJpVnDx",
        "outputId": "cd56d9dd-c2a8-4bf8-ae64-38e073e62ecf"
      },
      "execution_count": 12,
      "outputs": [
        {
          "output_type": "stream",
          "name": "stdout",
          "text": [
            "<class 'pandas.core.frame.DataFrame'>\n",
            "Int64Index: 32828 entries, 0 to 32832\n",
            "Data columns (total 23 columns):\n",
            " #   Column                    Non-Null Count  Dtype  \n",
            "---  ------                    --------------  -----  \n",
            " 0   track_id                  32828 non-null  object \n",
            " 1   track_name                32828 non-null  object \n",
            " 2   track_artist              32828 non-null  object \n",
            " 3   track_popularity          32828 non-null  int64  \n",
            " 4   track_album_id            32828 non-null  object \n",
            " 5   track_album_name          32828 non-null  object \n",
            " 6   track_album_release_date  32828 non-null  object \n",
            " 7   playlist_name             32828 non-null  object \n",
            " 8   playlist_id               32828 non-null  object \n",
            " 9   playlist_genre            32828 non-null  object \n",
            " 10  playlist_subgenre         32828 non-null  object \n",
            " 11  danceability              32828 non-null  float64\n",
            " 12  energy                    32828 non-null  float64\n",
            " 13  key                       32828 non-null  int64  \n",
            " 14  loudness                  32828 non-null  float64\n",
            " 15  mode                      32828 non-null  int64  \n",
            " 16  speechiness               32828 non-null  float64\n",
            " 17  acousticness              32828 non-null  float64\n",
            " 18  instrumentalness          32828 non-null  float64\n",
            " 19  liveness                  32828 non-null  float64\n",
            " 20  valence                   32828 non-null  float64\n",
            " 21  tempo                     32828 non-null  float64\n",
            " 22  duration_ms               32828 non-null  int64  \n",
            "dtypes: float64(9), int64(4), object(10)\n",
            "memory usage: 6.0+ MB\n"
          ]
        }
      ]
    },
    {
      "cell_type": "code",
      "source": [
        "import seaborn as sns\n",
        "import matplotlib.pyplot as plt\n",
        "%matplotlib inline\n",
        "\n",
        "cor = df.corr()\n",
        "\n",
        "plt.figure(figsize=(10, 15))\n",
        "sns.heatmap(cor, annot=True)\n"
      ],
      "metadata": {
        "colab": {
          "base_uri": "https://localhost:8080/",
          "height": 961
        },
        "id": "kDHH2dKmX1T8",
        "outputId": "618a8474-5fe7-4048-d9b6-c0635b7a0297"
      },
      "execution_count": 13,
      "outputs": [
        {
          "output_type": "execute_result",
          "data": {
            "text/plain": [
              "<matplotlib.axes._subplots.AxesSubplot at 0x7f5ac6bb32e0>"
            ]
          },
          "metadata": {},
          "execution_count": 13
        },
        {
          "output_type": "display_data",
          "data": {
            "text/plain": [
              "<Figure size 720x1080 with 2 Axes>"
            ],
            "image/png": "[encoded data removed]"
          },
          "metadata": {
            "needs_background": "light"
          }
        }
      ]
    },
    {
      "cell_type": "code",
      "source": [
        "x.values.reshape(1, -1)"
      ],
      "metadata": {
        "colab": {
          "base_uri": "https://localhost:8080/"
        },
        "id": "jDUOZjPPWZ0Y",
        "outputId": "4f59a162-aeb3-4cc2-eb7a-9f6720a091c7"
      },
      "execution_count": 14,
      "outputs": [
        {
          "output_type": "execute_result",
          "data": {
            "text/plain": [
              "array([[66, 67, 70, ..., 14, 15, 27]])"
            ]
          },
          "metadata": {},
          "execution_count": 14
        }
      ]
    },
    {
      "cell_type": "code",
      "source": [
        "print(x)\n",
        "print(y)"
      ],
      "metadata": {
        "colab": {
          "base_uri": "https://localhost:8080/"
        },
        "id": "E3jPqIMsW-Qo",
        "outputId": "5a8f00f7-bbbd-4c87-8372-84240ee1b489"
      },
      "execution_count": 15,
      "outputs": [
        {
          "output_type": "stream",
          "name": "stdout",
          "text": [
            "0        66\n",
            "1        67\n",
            "2        70\n",
            "3        60\n",
            "4        69\n",
            "         ..\n",
            "32828    42\n",
            "32829    20\n",
            "32830    14\n",
            "32831    15\n",
            "32832    27\n",
            "Name: track_popularity, Length: 32828, dtype: int64\n",
            "0        194754\n",
            "1        162600\n",
            "2        176616\n",
            "3        169093\n",
            "4        189052\n",
            "          ...  \n",
            "32828    204375\n",
            "32829    353120\n",
            "32830    210112\n",
            "32831    367432\n",
            "32832    337500\n",
            "Name: duration_ms, Length: 32828, dtype: int64\n"
          ]
        }
      ]
    },
    {
      "cell_type": "code",
      "source": [
        "# from sklearn.feature_selection import mutual_info_classif\n",
        "# import matplotlib.pyplot as plt\n",
        "# %matplotlib inline\n",
        "\n",
        "\n",
        "# importances = mutual_info_classif(x, y)\n",
        "# feature_importances = pd.Series(importances, df.columns[0:len(df.columns)-1])\n",
        "# feature_importances.plot(kind='barh', color='blue')\n",
        "# plt.show()"
      ],
      "metadata": {
        "id": "88UlKd9lPbqI"
      },
      "execution_count": 16,
      "outputs": []
    },
    {
      "cell_type": "code",
      "source": [
        "from sklearn.model_selection import train_test_split\n",
        "\n",
        "x_train, x_test, y_train, y_test = train_test_split(x, y, test_size=0.2, random_state=0)\n",
        "\n"
      ],
      "metadata": {
        "id": "W2YFI6yVQ5Rr"
      },
      "execution_count": 17,
      "outputs": []
    },
    {
      "cell_type": "code",
      "source": [
        "x_train.shape, x_test.shape"
      ],
      "metadata": {
        "colab": {
          "base_uri": "https://localhost:8080/"
        },
        "id": "dQ0ar_6LUfUF",
        "outputId": "46f4908e-f7ed-4471-a62a-b1587684cddc"
      },
      "execution_count": 18,
      "outputs": [
        {
          "output_type": "execute_result",
          "data": {
            "text/plain": [
              "((26262,), (6566,))"
            ]
          },
          "metadata": {},
          "execution_count": 18
        }
      ]
    },
    {
      "cell_type": "markdown",
      "source": [
        "## **Feature Scaling**"
      ],
      "metadata": {
        "id": "kXJP7PxyZRTB"
      }
    },
    {
      "cell_type": "code",
      "source": [
        "x_train.values.reshape(1, -1)\n",
        "y_train.values.reshape(1, -1)\n",
        "x_test.values.reshape(1, -1)\n",
        "y_test.values.reshape(1, -1)\n"
      ],
      "metadata": {
        "colab": {
          "base_uri": "https://localhost:8080/"
        },
        "id": "0X2W_pTucHWp",
        "outputId": "8c5efc54-b5af-4f6e-b36a-e53688b139bb"
      },
      "execution_count": 19,
      "outputs": [
        {
          "output_type": "execute_result",
          "data": {
            "text/plain": [
              "array([[210570, 208952, 305307, ..., 195429, 262000, 255333]])"
            ]
          },
          "metadata": {},
          "execution_count": 19
        }
      ]
    },
    {
      "cell_type": "code",
      "source": [
        "from sklearn.preprocessing import StandardScaler\n",
        "\n",
        "scaler = StandardScaler()\n",
        "\n",
        "x_train = scaler.fit_transform(np.asarray(x_train).reshape(-1,1), np.asarray(y_train).reshape(-1,1))\n",
        "\n",
        "# x_test = scaler.transform(np.asarray(x_train).reshape(-1,1), np.asarray(y_train).reshape(-1,1))\n",
        "\n"
      ],
      "metadata": {
        "id": "7yAFbYt8ZKgZ"
      },
      "execution_count": 20,
      "outputs": []
    },
    {
      "cell_type": "markdown",
      "source": [
        "## Run SVM with default Hyperparameters - It takes long time and no output has seen."
      ],
      "metadata": {
        "id": "WFbFuN1Xfkfm"
      }
    },
    {
      "cell_type": "code",
      "source": [
        "from sklearn.svm import SVC\n",
        "\n",
        "from sklearn.metrics import accuracy_score\n",
        "\n",
        "svc = SVC()\n",
        "\n",
        "svc.fit(np.asarray(x_train).reshape(-1,1), np.asarray(y_train).reshape(-1,1))\n",
        "\n",
        "y_pred = svc.predict(np.asarray(x_test).reshape(-1, 1))\n",
        "\n",
        "print('Model accuracy score with default hyperparameters: {0:0.4f}'.format(accuracy_score(np.asarray(y_test).reshape(-1, 1), y_pred)))\n"
      ],
      "metadata": {
        "id": "5BOP-JX9e-Dj"
      },
      "execution_count": 28,
      "outputs": []
    },
    {
      "cell_type": "markdown",
      "source": [
        "## XGBoost "
      ],
      "metadata": {
        "id": "7_EUGfL_kQB_"
      }
    },
    {
      "cell_type": "code",
      "source": [
        "import pandas as pd\n",
        "from sklearn.model_selection import train_test_split\n",
        "from sklearn.impute import SimpleImputer"
      ],
      "metadata": {
        "id": "lLpeZEBJg8YP"
      },
      "execution_count": 30,
      "outputs": []
    },
    {
      "cell_type": "code",
      "source": [
        "my_imputer = SimpleImputer()\n",
        "x_train = my_imputer.fit_transform(np.asarray(x_train).reshape(-1,1))\n",
        "x_test = my_imputer.transform(np.asarray(x_test).reshape(-1, 1))\n",
        "\n"
      ],
      "metadata": {
        "id": "NvIFuXAOlG-G"
      },
      "execution_count": 31,
      "outputs": []
    },
    {
      "cell_type": "code",
      "source": [
        "from xgboost import XGBRegressor\n",
        "\n",
        "my_model = XGBRegressor()\n",
        "\n",
        "my_model.fit(np.asarray(x_train).reshape(-1,1), np.asarray(y_train).reshape(-1,1), verbose=False)\n"
      ],
      "metadata": {
        "colab": {
          "base_uri": "https://localhost:8080/"
        },
        "id": "3-fB_043lOd2",
        "outputId": "dac1414c-936e-41f3-a3a1-242a0a6de2a9"
      },
      "execution_count": 32,
      "outputs": [
        {
          "output_type": "stream",
          "name": "stdout",
          "text": [
            "[00:20:56] WARNING: /workspace/src/objective/regression_obj.cu:152: reg:linear is now deprecated in favor of reg:squarederror.\n"
          ]
        },
        {
          "output_type": "execute_result",
          "data": {
            "text/plain": [
              "XGBRegressor()"
            ]
          },
          "metadata": {},
          "execution_count": 32
        }
      ]
    },
    {
      "cell_type": "code",
      "source": [
        "prediction = my_model.predict(np.asarray(x_test).reshape(-1, 1))\n"
      ],
      "metadata": {
        "id": "drlKnOa9mufG"
      },
      "execution_count": 41,
      "outputs": []
    },
    {
      "cell_type": "code",
      "source": [
        "from sklearn.metrics import mean_absolute_error\n",
        "print(\"Mean Absolute Error: \" + str(mean_absolute_error(prediction, np.asarray(x_test).reshape(-1, 1))))\n",
        "\n"
      ],
      "metadata": {
        "colab": {
          "base_uri": "https://localhost:8080/"
        },
        "id": "MHUfCQOinBLn",
        "outputId": "8e8a7e20-e73d-4855-8852-ded1cbd0b633"
      },
      "execution_count": 42,
      "outputs": [
        {
          "output_type": "stream",
          "name": "stdout",
          "text": [
            "Mean Absolute Error: 200313.0775729135\n"
          ]
        }
      ]
    },
    {
      "cell_type": "code",
      "source": [
        "my_model = XGBRegressor(n_estimators=1000)\n",
        "\n",
        "my_model.fit(np.asarray(x_train).reshape(-1,1), np.asarray(y_train).reshape(-1,1), early_stopping_rounds=5, eval_set=[(np.asarray(x_test).reshape(-1,1), np.asarray(y_test).reshape(-1,1))], verbose=False)\n"
      ],
      "metadata": {
        "colab": {
          "base_uri": "https://localhost:8080/"
        },
        "id": "ra6tTxeGnUt-",
        "outputId": "b16d4fb1-4d52-4460-e8f1-572a67bd6930"
      },
      "execution_count": 43,
      "outputs": [
        {
          "output_type": "stream",
          "name": "stdout",
          "text": [
            "[00:44:10] WARNING: /workspace/src/objective/regression_obj.cu:152: reg:linear is now deprecated in favor of reg:squarederror.\n"
          ]
        },
        {
          "output_type": "execute_result",
          "data": {
            "text/plain": [
              "XGBRegressor(n_estimators=1000)"
            ]
          },
          "metadata": {},
          "execution_count": 43
        }
      ]
    },
    {
      "cell_type": "markdown",
      "source": [
        "## Gradient Boosting Regression Extra"
      ],
      "metadata": {
        "id": "PJwPeqJS3W-8"
      }
    },
    {
      "cell_type": "code",
      "source": [
        "import matplotlib.pyplot as plt\n",
        "import numpy as np\n",
        "from sklearn import datasets, ensemble\n",
        "from sklearn.inspection import permutation_importance\n",
        "from sklearn.metrics import mean_squared_error\n",
        "from sklearn.model_selection import train_test_split\n"
      ],
      "metadata": {
        "id": "01I5uXDe3e4b"
      },
      "execution_count": 46,
      "outputs": []
    },
    {
      "cell_type": "code",
      "source": [
        "x_train, x_test, y_train, y_test = train_test_split(x, y, test_size=0.1, random_state=13)\n",
        "\n",
        "params = {\n",
        "    \"n_estimators\": 500,\n",
        "    \"max_depth\": 4,\n",
        "    \"min_samples_split\": 5,\n",
        "    \"learning_rate\": 0.01,\n",
        "    \"loss\": \"squared_error\",\n",
        "}"
      ],
      "metadata": {
        "id": "4CmN0Ob72Brq"
      },
      "execution_count": 47,
      "outputs": []
    },
    {
      "cell_type": "code",
      "source": [
        "reg = ensemble.GradientBoostingRegressor(**params)\n",
        "reg.fit(np.asarray(x_train).reshape(-1,1), np.asarray(y_train).reshape(-1,1))\n",
        "\n",
        "mse = mean_squared_error(np.asarray(y_test).reshape(-1,1), reg.predict(np.asarray(x_test).reshape(-1,1)))\n",
        "print(\"The mean squared error (MSE) on test set: {:.4f}\".format(mse))"
      ],
      "metadata": {
        "colab": {
          "base_uri": "https://localhost:8080/"
        },
        "id": "QA4_U_OM2sfU",
        "outputId": "afabb9b7-5a11-4472-8163-17720b2c239b"
      },
      "execution_count": 50,
      "outputs": [
        {
          "output_type": "stream",
          "name": "stderr",
          "text": [
            "/usr/local/lib/python3.8/dist-packages/sklearn/ensemble/_gb.py:494: DataConversionWarning: A column-vector y was passed when a 1d array was expected. Please change the shape of y to (n_samples, ), for example using ravel().\n",
            "  y = column_or_1d(y, warn=True)\n"
          ]
        },
        {
          "output_type": "stream",
          "name": "stdout",
          "text": [
            "The mean squared error (MSE) on test set: 3430568343.9453\n"
          ]
        }
      ]
    },
    {
      "cell_type": "code",
      "source": [
        "test_score = np.zeros((params[\"n_estimators\"],), dtype=np.float64)\n",
        "for i, y_pred in enumerate(reg.staged_predict(np.asarray(x_test).reshape(-1,1))):\n",
        "    test_score[i] = mean_squared_error(np.asarray(y_test).reshape(-1,1), np.asarray(y_pred).reshape(-1,1))"
      ],
      "metadata": {
        "id": "izgXJigr19Ns"
      },
      "execution_count": 52,
      "outputs": []
    },
    {
      "cell_type": "code",
      "source": [
        "fig = plt.figure(figsize=(6, 6))\n",
        "plt.subplot(1, 1, 1)\n",
        "plt.title(\"Deviance\")\n",
        "plt.plot(\n",
        "    np.arange(params[\"n_estimators\"]) + 1,\n",
        "    reg.train_score_,\n",
        "    \"b-\",\n",
        "    label=\"Training Set Deviance\",\n",
        ")\n",
        "plt.plot(\n",
        "    np.arange(params[\"n_estimators\"]) + 1, test_score, \"r-\", label=\"Test Set Deviance\"\n",
        ")\n",
        "plt.legend(loc=\"upper right\")\n",
        "plt.xlabel(\"Boosting Iterations\")\n",
        "plt.ylabel(\"Deviance\")\n",
        "fig.tight_layout()\n",
        "plt.show()"
      ],
      "metadata": {
        "colab": {
          "base_uri": "https://localhost:8080/",
          "height": 441
        },
        "id": "_MDuNI2K5oti",
        "outputId": "6d221d14-fe71-4016-af14-a5a2369a9afe"
      },
      "execution_count": 53,
      "outputs": [
        {
          "output_type": "display_data",
          "data": {
            "text/plain": [
              "<Figure size 432x432 with 1 Axes>"
            ],
            "image/png": "[encoded data removed]"
          },
          "metadata": {
            "needs_background": "light"
          }
        }
      ]
    },
    {
      "cell_type": "code",
      "source": [],
      "metadata": {
        "id": "dQQ5T4hVsroi"
      },
      "execution_count": null,
      "outputs": []
    }
  ]
}